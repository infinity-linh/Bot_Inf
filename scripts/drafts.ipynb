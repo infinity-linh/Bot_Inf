{
 "cells": [
  {
   "cell_type": "markdown",
   "metadata": {},
   "source": [
    "# Phương trình tay máy"
   ]
  },
  {
   "cell_type": "code",
   "execution_count": null,
   "metadata": {},
   "outputs": [],
   "source": [
    "import numpy as np\n",
    "a_s = [0, 45, 107]\n",
    "\n",
    "\n",
    "a_r0 = (a_s[0]*np.pi)/180\n",
    "a_r1 = (a_s[1] *np.pi)/180\n",
    "a_r2 = (a_s[2]*np.pi)/180\n",
    "print(\"input :\", a_r0, a_r1, a_r2)\n",
    "q1 = a_r0\n",
    "q2 = a_r1\n",
    "q3 = a_r2\n",
    "L0 = 7.5\n",
    "L1 = 8\n",
    "L2 = 11.5\n",
    "\n",
    "\n",
    "\n",
    "x = L1*np.cos(q2)*np.cos(q1) + L2*np.cos(q3-q2)*np.cos(q1)\n",
    "y = L1*np.cos(q2)*np.sin(q1) + L2*np.cos(q3-q2)*np.sin(q1)\n",
    "z = L1*np.sin(q2) - L2*np.sin(q3-q2) + L0\n",
    "\n",
    "print(x, y, z)"
   ]
  },
  {
   "cell_type": "markdown",
   "metadata": {},
   "source": [
    "x, y, z = 12, 2, 3\n",
    "# x 4 - 13\n",
    "# y = 4 - 10\n",
    "# z = 0 - 5\n",
    "\n",
    "a_1 = np.arctan(y/x)\n",
    "\n",
    "n = z-L0\n",
    "m = x*np.cos(a_1) + y*np.sin(a_1)\n",
    "\n",
    "a_3 = np.arccos((np.power(m,2) + np.power(n,2) - np.power(L1,2) - np.power(L2,2))/(2*L1*L2))\n",
    "\n",
    "u = L1 + L2*np.cos(a_3)\n",
    "v = L2 * np.sin(a_3)\n",
    "\n",
    "a_2 = np.arccos((u*m-v*n)/(u**2 + v**2))\n",
    "\n",
    "a_r0 = np.pi/2 - a_1\n",
    "a_r1 = a_2 \n",
    "a_r2 = a_3 - a_2\n",
    "\n",
    "print(a_r0*180/np.pi, a_r1*180/np.pi, a_r2*180/np.pi)"
   ]
  },
  {
   "cell_type": "markdown",
   "metadata": {},
   "source": [
    "# Xử lý dữ liệu ảnh"
   ]
  },
  {
   "cell_type": "markdown",
   "metadata": {},
   "source": [
    "# Xử lý dữ liệu bảng "
   ]
  },
  {
   "cell_type": "code",
   "execution_count": null,
   "metadata": {},
   "outputs": [],
   "source": [
    "import pandas as pd\n",
    "import numpy as np\n",
    "df = pd.read_csv(\"D:/User/DLBot/scripts/data/angles.csv\")\n",
    "# df.head()\n",
    "data = np.array(df)\n",
    "X = np.array(data[:,0:8], dtype=np.double)/400\n",
    "y = np.array(data[:,8:12], dtype=np.double)*np.pi/180"
   ]
  },
  {
   "cell_type": "code",
   "execution_count": 1,
   "metadata": {},
   "outputs": [],
   "source": [
    "L0 = 7.5\n",
    "L1 = 8\n",
    "L2 = 11.5\n",
    "def donghocthuan(q):\n",
    "    x = L1*np.cos(q[1])*np.cos(q[0]) + L2*np.cos(q[2]-q[1])*np.cos(q[0])\n",
    "    y = L1*np.cos(q[1])*np.sin(q[0]) + L2*np.cos(q[2]-q[1])*np.sin(q[0])\n",
    "    z = L1*np.sin(q[1]) - L2*np.sin(q[2]-q[1]) + L0\n",
    "    return x, y, z, q[3]\n",
    "\n",
    "def center_box(box):\n",
    "    x, y = box[0]+(box[2] - box[0])/2, box[1]+(box[3] - box[1])/2\n",
    "    w, h = (box[2] - box[0]), (box[3] - box[1])\n",
    "    return x, y, w, h"
   ]
  },
  {
   "cell_type": "code",
   "execution_count": null,
   "metadata": {},
   "outputs": [],
   "source": [
    "data_create = []\n",
    "for idx, dta in enumerate(X):\n",
    "    box_1, box_2 = dta[:4], dta[4:]\n",
    "    # x, y, w, h = center_box(box_1)\n",
    "    # print(x,y,w,h)\n",
    "    # print(idx)\n",
    "    data_frame = np.hstack(\n",
    "                        [center_box(box_1), center_box(box_2), donghocthuan(y[idx])])\n",
    "    data_create.append(data_frame)\n",
    "# df = pd.read_csv(\"D:/User/DLBot/scripts/data/angles_pro.csv\")\n",
    "df2 = pd.DataFrame(data_create, columns=['x1','y1','w1','h1','x2','y2','w2','h2','a1','a2','a3','a4'])\n",
    "# df2 = pd.concat([df, df2])\n",
    "df2.to_csv(\n",
    "    \"D:/User/DLBot/scripts/data/angles_pro.csv\", index=False)\n",
    "data_create"
   ]
  },
  {
   "cell_type": "code",
   "execution_count": null,
   "metadata": {},
   "outputs": [],
   "source": [
    "def create_batch_data(Train_X, Train_y, batch):\n",
    "    X, y = [], []\n",
    "    XX, yy = [], []\n",
    "    j=0\n",
    "    while j < len(Train_y):\n",
    "        X.append(Train_X[j])\n",
    "        y.append(Train_y[j])\n",
    "        if (j+1)%batch==0:\n",
    "            XX.append(X)\n",
    "            yy.append(y)\n",
    "            X, y = [], []\n",
    "        j+=1\n",
    "    return np.array(XX), np.array(yy)"
   ]
  },
  {
   "cell_type": "markdown",
   "metadata": {},
   "source": [
    "# Training"
   ]
  },
  {
   "cell_type": "code",
   "execution_count": null,
   "metadata": {},
   "outputs": [],
   "source": [
    "import pandas as pd\n",
    "import numpy as np\n",
    "from sklearn.model_selection import train_test_split\n",
    "from model_ANN import ANN\n",
    "import torch.nn as nn\n",
    "import tqdm\n",
    "import torch\n",
    "\n",
    "df = pd.read_csv(\"D:/User/DLBot/scripts/data/angles_pro.csv\")\n",
    "# df.head()\n",
    "data = np.array(df)\n",
    "X = np.array(data[:,0:8], dtype=np.double)\n",
    "y = np.array(data[:,8:12], dtype=np.double)\n",
    "\n",
    "Train_X, Val_X, Train_y, Val_y = train_test_split(X, y, test_size=0.2)\n",
    "X_train, y_train = create_batch_data(Train_X, Train_y, 64)\n",
    "X_val, y_val = create_batch_data(Val_X, Val_y, 64)"
   ]
  },
  {
   "cell_type": "code",
   "execution_count": null,
   "metadata": {},
   "outputs": [],
   "source": [
    "def study(model, X, y, optimizer, losses, device):\n",
    "    model.train()\n",
    "    train_loss = 0\n",
    "    # counter = 0\n",
    "    # print (\"@@@ Start train model @@@\")\n",
    "    for i, data in enumerate(X):\n",
    "        # counter += 1\n",
    "        image, label = torch.tensor(data,dtype=torch.float32), torch.tensor(y[i],dtype=torch.float32)\n",
    "        image = image.to(device)\n",
    "        label =label.to(device)\n",
    "        optimizer.zero_grad()\n",
    "        label_pre = model(image)\n",
    "        # print(label_pre.shape)\n",
    "        loss = losses(label_pre, label)\n",
    "        train_loss += loss.item()\n",
    "        # print(train_loss)\n",
    "        loss.backward()\n",
    "        optimizer.step()\n",
    "        # print(preds)\n",
    "    epoch_loss = train_loss / len(X)\n",
    "\n",
    "    return epoch_loss\n"
   ]
  },
  {
   "cell_type": "code",
   "execution_count": null,
   "metadata": {},
   "outputs": [],
   "source": [
    "def val(model, X, y, losses, device):\n",
    "    val_loss = 0\n",
    "    # counter = 0\n",
    "    # print (\"@@@ Start train model @@@\")\n",
    "    for i, data in enumerate(X):\n",
    "        # counter += 1\n",
    "        image, label = torch.tensor(data,dtype=torch.float32), torch.tensor(y[i],dtype=torch.float32)\n",
    "        image = image.to(device)\n",
    "        label =label.to(device)\n",
    "        label_pre = model(image)\n",
    "        # print(label_pre.shape)\n",
    "        loss = losses(label_pre, label)\n",
    "        val_loss += loss.item()\n",
    "        # print(train_loss)\n",
    "        # loss.backward()\n",
    "        # print(preds)\n",
    "    epoch_loss = val_loss / len(X)\n",
    "\n",
    "    return epoch_loss"
   ]
  },
  {
   "cell_type": "code",
   "execution_count": null,
   "metadata": {},
   "outputs": [],
   "source": [
    "import torch.optim as optim\n",
    "\n",
    "PATH = \"D:/User/DLBot/scripts/model/model_auto_arm_pro.pt\"\n",
    "learning_rate = 0.001\n",
    "model = ANN()\n",
    "model.load_state_dict(torch.load(PATH))\n",
    "\n",
    "device = torch.device('cuda:0' if torch.cuda.is_available() else 'cpu')\n",
    "print(device)\n",
    "optimizer = optim.SGD(model.parameters(), lr=learning_rate)\n",
    "# Loss function.\n",
    "# losses = nn.CrossEntropyLoss()\n",
    "losses = nn.MSELoss()\n",
    "loss_tr = []\n",
    "loss_va = []\n",
    "\n",
    "# evaluate a model using repeated k-fold cross-validation\n",
    "for i in range(10000):\n",
    "    train_loss = study(model, X_train,y_train, optimizer, losses, device)\n",
    "    val_loss = val(model,X_val, y_val,losses, device)\n",
    "    loss_tr.append(train_loss)\n",
    "    loss_va.append(val_loss)\n",
    "\n",
    "    if i%100==0:\n",
    "        print('epoch: ',i, 'Train loss: ', train_loss)\n",
    "        print('       ',i, 'Val loss: ', val_loss)\n",
    "\n",
    "torch.save(model.state_dict(), PATH)"
   ]
  },
  {
   "cell_type": "code",
   "execution_count": null,
   "metadata": {},
   "outputs": [],
   "source": [
    "import matplotlib.pyplot as plt\n",
    "\n",
    "plt.title('Sai số góc khớp')\n",
    "plt.xlabel('loss')\n",
    "plt.ylabel('epoch')\n",
    "\n",
    "plt.plot(loss_tr, label='train_loss')\n",
    "plt.plot(loss_va, label='val_loss')\n",
    "plt.legend()\n",
    "\n",
    "plt.show()"
   ]
  },
  {
   "cell_type": "markdown",
   "metadata": {},
   "source": [
    "# Visualize"
   ]
  }
 ],
 "metadata": {
  "kernelspec": {
   "display_name": "my_islle",
   "language": "python",
   "name": "python3"
  },
  "language_info": {
   "codemirror_mode": {
    "name": "ipython",
    "version": 3
   },
   "file_extension": ".py",
   "mimetype": "text/x-python",
   "name": "python",
   "nbconvert_exporter": "python",
   "pygments_lexer": "ipython3",
   "version": "3.8.0"
  }
 },
 "nbformat": 4,
 "nbformat_minor": 2
}
